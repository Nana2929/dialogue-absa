{
 "cells": [
  {
   "cell_type": "code",
   "execution_count": 6,
   "metadata": {},
   "outputs": [],
   "source": [
    "import os \n",
    "from pathlib import Path \n",
    "import pandas as pd \n",
    "result_dir = 'results/'\n",
    "t5_fname = 't5_diaasq_speaker_en_inference_20230525-141254.csv'\n",
    "gpt_fname = 'SpeakerDiaAsqDataset_gpt_eval.csv'\n",
    "\n"
   ]
  },
  {
   "cell_type": "code",
   "execution_count": 7,
   "metadata": {},
   "outputs": [],
   "source": [
    "\n",
    "t5_res = pd.read_csv(os.path.join(result_dir, t5_fname))\n",
    "gpt_res = pd.read_csv(os.path.join(result_dir, gpt_fname))"
   ]
  },
  {
   "cell_type": "code",
   "execution_count": 8,
   "metadata": {},
   "outputs": [
    {
     "data": {
      "text/html": [
       "<div>\n",
       "<style scoped>\n",
       "    .dataframe tbody tr th:only-of-type {\n",
       "        vertical-align: middle;\n",
       "    }\n",
       "\n",
       "    .dataframe tbody tr th {\n",
       "        vertical-align: top;\n",
       "    }\n",
       "\n",
       "    .dataframe thead th {\n",
       "        text-align: right;\n",
       "    }\n",
       "</style>\n",
       "<table border=\"1\" class=\"dataframe\">\n",
       "  <thead>\n",
       "    <tr style=\"text-align: right;\">\n",
       "      <th></th>\n",
       "      <th>doc_id</th>\n",
       "      <th>speaker</th>\n",
       "      <th>pred</th>\n",
       "      <th>label</th>\n",
       "    </tr>\n",
       "  </thead>\n",
       "  <tbody>\n",
       "    <tr>\n",
       "      <th>0</th>\n",
       "      <td>2</td>\n",
       "      <td>A</td>\n",
       "      <td>(XPhone,experienceor,noter,n) (Xiaomi 11,exper...</td>\n",
       "      <td>(iPhone,processor,better,pos) (Xiaomi 11,photo...</td>\n",
       "    </tr>\n",
       "    <tr>\n",
       "      <th>1</th>\n",
       "      <td>2</td>\n",
       "      <td>B</td>\n",
       "      <td>(iPhone,Sor,excellent,pos) (iPhone,iOS,beaten,...</td>\n",
       "      <td>(iPhone,processor,excellent,pos) (iPhone,iOS,e...</td>\n",
       "    </tr>\n",
       "    <tr>\n",
       "      <th>2</th>\n",
       "      <td>2</td>\n",
       "      <td>C</td>\n",
       "      <td>(iPhone,Sales,beat,pos) (</td>\n",
       "      <td>(iPhone,Sales,beat,pos)</td>\n",
       "    </tr>\n",
       "    <tr>\n",
       "      <th>3</th>\n",
       "      <td>2</td>\n",
       "      <td>D</td>\n",
       "      <td>(Xi 11,photos, blurlurry,neg) (Xi 11,photo,spe...</td>\n",
       "      <td>(Mi 11,photos,blurry,neg) (Mi 11,experience,sp...</td>\n",
       "    </tr>\n",
       "    <tr>\n",
       "      <th>4</th>\n",
       "      <td>12</td>\n",
       "      <td>A</td>\n",
       "      <td>(10U,telephoto,not outdated,pos)</td>\n",
       "      <td>(10U,telephoto,not outdated,pos)</td>\n",
       "    </tr>\n",
       "  </tbody>\n",
       "</table>\n",
       "</div>"
      ],
      "text/plain": [
       "   doc_id speaker                                               pred   \n",
       "0       2       A  (XPhone,experienceor,noter,n) (Xiaomi 11,exper...  \\\n",
       "1       2       B  (iPhone,Sor,excellent,pos) (iPhone,iOS,beaten,...   \n",
       "2       2       C                          (iPhone,Sales,beat,pos) (   \n",
       "3       2       D  (Xi 11,photos, blurlurry,neg) (Xi 11,photo,spe...   \n",
       "4      12       A                  (10U,telephoto,not outdated,pos)    \n",
       "\n",
       "                                               label  \n",
       "0  (iPhone,processor,better,pos) (Xiaomi 11,photo...  \n",
       "1  (iPhone,processor,excellent,pos) (iPhone,iOS,e...  \n",
       "2                           (iPhone,Sales,beat,pos)   \n",
       "3  (Mi 11,photos,blurry,neg) (Mi 11,experience,sp...  \n",
       "4                  (10U,telephoto,not outdated,pos)   "
      ]
     },
     "execution_count": 8,
     "metadata": {},
     "output_type": "execute_result"
    }
   ],
   "source": [
    "t5_res.head()"
   ]
  },
  {
   "cell_type": "code",
   "execution_count": 9,
   "metadata": {},
   "outputs": [
    {
     "data": {
      "text/html": [
       "<div>\n",
       "<style scoped>\n",
       "    .dataframe tbody tr th:only-of-type {\n",
       "        vertical-align: middle;\n",
       "    }\n",
       "\n",
       "    .dataframe tbody tr th {\n",
       "        vertical-align: top;\n",
       "    }\n",
       "\n",
       "    .dataframe thead th {\n",
       "        text-align: right;\n",
       "    }\n",
       "</style>\n",
       "<table border=\"1\" class=\"dataframe\">\n",
       "  <thead>\n",
       "    <tr style=\"text-align: right;\">\n",
       "      <th></th>\n",
       "      <th>input_sequence</th>\n",
       "      <th>doc_id</th>\n",
       "      <th>speaker</th>\n",
       "      <th>label</th>\n",
       "      <th>pred</th>\n",
       "    </tr>\n",
       "  </thead>\n",
       "  <tbody>\n",
       "    <tr>\n",
       "      <th>0</th>\n",
       "      <td>Sentiment Analysis\\nA sentiment tuple consists...</td>\n",
       "      <td>2</td>\n",
       "      <td>A</td>\n",
       "      <td>(iPhone,processor,better,pos)\\n(Xiaomi 11,phot...</td>\n",
       "      <td>(iPhone,processor,except for,neg)\\n(Xiaomi,nul...</td>\n",
       "    </tr>\n",
       "    <tr>\n",
       "      <th>1</th>\n",
       "      <td>Sentiment Analysis\\nA sentiment tuple consists...</td>\n",
       "      <td>2</td>\n",
       "      <td>B</td>\n",
       "      <td>(iPhone,processor,excellent,pos)\\n(iPhone,iOS,...</td>\n",
       "      <td>(iPhone,processor,excellent,pos)\\n(iPhone,iOS,...</td>\n",
       "    </tr>\n",
       "    <tr>\n",
       "      <th>2</th>\n",
       "      <td>Sentiment Analysis\\nA sentiment tuple consists...</td>\n",
       "      <td>2</td>\n",
       "      <td>C</td>\n",
       "      <td>(iPhone,Sales,beat,pos)\\n</td>\n",
       "      <td>(iPhone,processor,excellent,pos)\\n(iPhone,iOS,...</td>\n",
       "    </tr>\n",
       "    <tr>\n",
       "      <th>3</th>\n",
       "      <td>Sentiment Analysis\\nA sentiment tuple consists...</td>\n",
       "      <td>2</td>\n",
       "      <td>D</td>\n",
       "      <td>(Mi 11,photos,blurry,neg)\\n(Mi 11,experience,s...</td>\n",
       "      <td>(null,X,n't used,neg)\\n(X,null,good photos,neg...</td>\n",
       "    </tr>\n",
       "    <tr>\n",
       "      <th>4</th>\n",
       "      <td>Sentiment Analysis\\nA sentiment tuple consists...</td>\n",
       "      <td>12</td>\n",
       "      <td>A</td>\n",
       "      <td>(10U,telephoto,not outdated,pos)\\n</td>\n",
       "      <td>(null,10U,not outdated,pos)</td>\n",
       "    </tr>\n",
       "  </tbody>\n",
       "</table>\n",
       "</div>"
      ],
      "text/plain": [
       "                                      input_sequence  doc_id speaker   \n",
       "0  Sentiment Analysis\\nA sentiment tuple consists...       2       A  \\\n",
       "1  Sentiment Analysis\\nA sentiment tuple consists...       2       B   \n",
       "2  Sentiment Analysis\\nA sentiment tuple consists...       2       C   \n",
       "3  Sentiment Analysis\\nA sentiment tuple consists...       2       D   \n",
       "4  Sentiment Analysis\\nA sentiment tuple consists...      12       A   \n",
       "\n",
       "                                               label   \n",
       "0  (iPhone,processor,better,pos)\\n(Xiaomi 11,phot...  \\\n",
       "1  (iPhone,processor,excellent,pos)\\n(iPhone,iOS,...   \n",
       "2                          (iPhone,Sales,beat,pos)\\n   \n",
       "3  (Mi 11,photos,blurry,neg)\\n(Mi 11,experience,s...   \n",
       "4                 (10U,telephoto,not outdated,pos)\\n   \n",
       "\n",
       "                                                pred  \n",
       "0  (iPhone,processor,except for,neg)\\n(Xiaomi,nul...  \n",
       "1  (iPhone,processor,excellent,pos)\\n(iPhone,iOS,...  \n",
       "2  (iPhone,processor,excellent,pos)\\n(iPhone,iOS,...  \n",
       "3  (null,X,n't used,neg)\\n(X,null,good photos,neg...  \n",
       "4                        (null,10U,not outdated,pos)  "
      ]
     },
     "execution_count": 9,
     "metadata": {},
     "output_type": "execute_result"
    }
   ],
   "source": [
    "gpt_res.head()"
   ]
  },
  {
   "cell_type": "code",
   "execution_count": 20,
   "metadata": {},
   "outputs": [
    {
     "data": {
      "text/html": [
       "<div>\n",
       "<style scoped>\n",
       "    .dataframe tbody tr th:only-of-type {\n",
       "        vertical-align: middle;\n",
       "    }\n",
       "\n",
       "    .dataframe tbody tr th {\n",
       "        vertical-align: top;\n",
       "    }\n",
       "\n",
       "    .dataframe thead th {\n",
       "        text-align: right;\n",
       "    }\n",
       "</style>\n",
       "<table border=\"1\" class=\"dataframe\">\n",
       "  <thead>\n",
       "    <tr style=\"text-align: right;\">\n",
       "      <th></th>\n",
       "      <th>doc_id_t5</th>\n",
       "      <th>speaker_t5</th>\n",
       "      <th>pred_t5</th>\n",
       "      <th>label_t5</th>\n",
       "      <th>doc_id_speaker</th>\n",
       "      <th>input_sequence</th>\n",
       "      <th>doc_id_gpt</th>\n",
       "      <th>speaker_gpt</th>\n",
       "      <th>label_gpt</th>\n",
       "      <th>pred_gpt</th>\n",
       "    </tr>\n",
       "  </thead>\n",
       "  <tbody>\n",
       "    <tr>\n",
       "      <th>0</th>\n",
       "      <td>2</td>\n",
       "      <td>A</td>\n",
       "      <td>(XPhone,experienceor,noter,n) (Xiaomi 11,exper...</td>\n",
       "      <td>(iPhone,processor,better,pos) (Xiaomi 11,photo...</td>\n",
       "      <td>2_A</td>\n",
       "      <td>Sentiment Analysis\\nA sentiment tuple consists...</td>\n",
       "      <td>2</td>\n",
       "      <td>A</td>\n",
       "      <td>(iPhone,processor,better,pos)\\n(Xiaomi 11,phot...</td>\n",
       "      <td>(iPhone,processor,except for,neg)\\n(Xiaomi,nul...</td>\n",
       "    </tr>\n",
       "    <tr>\n",
       "      <th>1</th>\n",
       "      <td>2</td>\n",
       "      <td>B</td>\n",
       "      <td>(iPhone,Sor,excellent,pos) (iPhone,iOS,beaten,...</td>\n",
       "      <td>(iPhone,processor,excellent,pos) (iPhone,iOS,e...</td>\n",
       "      <td>2_B</td>\n",
       "      <td>Sentiment Analysis\\nA sentiment tuple consists...</td>\n",
       "      <td>2</td>\n",
       "      <td>B</td>\n",
       "      <td>(iPhone,processor,excellent,pos)\\n(iPhone,iOS,...</td>\n",
       "      <td>(iPhone,processor,excellent,pos)\\n(iPhone,iOS,...</td>\n",
       "    </tr>\n",
       "    <tr>\n",
       "      <th>2</th>\n",
       "      <td>2</td>\n",
       "      <td>C</td>\n",
       "      <td>(iPhone,Sales,beat,pos) (</td>\n",
       "      <td>(iPhone,Sales,beat,pos)</td>\n",
       "      <td>2_C</td>\n",
       "      <td>Sentiment Analysis\\nA sentiment tuple consists...</td>\n",
       "      <td>2</td>\n",
       "      <td>C</td>\n",
       "      <td>(iPhone,Sales,beat,pos)\\n</td>\n",
       "      <td>(iPhone,processor,excellent,pos)\\n(iPhone,iOS,...</td>\n",
       "    </tr>\n",
       "    <tr>\n",
       "      <th>3</th>\n",
       "      <td>2</td>\n",
       "      <td>D</td>\n",
       "      <td>(Xi 11,photos, blurlurry,neg) (Xi 11,photo,spe...</td>\n",
       "      <td>(Mi 11,photos,blurry,neg) (Mi 11,experience,sp...</td>\n",
       "      <td>2_D</td>\n",
       "      <td>Sentiment Analysis\\nA sentiment tuple consists...</td>\n",
       "      <td>2</td>\n",
       "      <td>D</td>\n",
       "      <td>(Mi 11,photos,blurry,neg)\\n(Mi 11,experience,s...</td>\n",
       "      <td>(null,X,n't used,neg)\\n(X,null,good photos,neg...</td>\n",
       "    </tr>\n",
       "    <tr>\n",
       "      <th>4</th>\n",
       "      <td>12</td>\n",
       "      <td>A</td>\n",
       "      <td>(10U,telephoto,not outdated,pos)</td>\n",
       "      <td>(10U,telephoto,not outdated,pos)</td>\n",
       "      <td>12_A</td>\n",
       "      <td>Sentiment Analysis\\nA sentiment tuple consists...</td>\n",
       "      <td>12</td>\n",
       "      <td>A</td>\n",
       "      <td>(10U,telephoto,not outdated,pos)\\n</td>\n",
       "      <td>(null,10U,not outdated,pos)</td>\n",
       "    </tr>\n",
       "  </tbody>\n",
       "</table>\n",
       "</div>"
      ],
      "text/plain": [
       "  doc_id_t5 speaker_t5                                            pred_t5   \n",
       "0         2          A  (XPhone,experienceor,noter,n) (Xiaomi 11,exper...  \\\n",
       "1         2          B  (iPhone,Sor,excellent,pos) (iPhone,iOS,beaten,...   \n",
       "2         2          C                          (iPhone,Sales,beat,pos) (   \n",
       "3         2          D  (Xi 11,photos, blurlurry,neg) (Xi 11,photo,spe...   \n",
       "4        12          A                  (10U,telephoto,not outdated,pos)    \n",
       "\n",
       "                                            label_t5 doc_id_speaker   \n",
       "0  (iPhone,processor,better,pos) (Xiaomi 11,photo...            2_A  \\\n",
       "1  (iPhone,processor,excellent,pos) (iPhone,iOS,e...            2_B   \n",
       "2                           (iPhone,Sales,beat,pos)             2_C   \n",
       "3  (Mi 11,photos,blurry,neg) (Mi 11,experience,sp...            2_D   \n",
       "4                  (10U,telephoto,not outdated,pos)            12_A   \n",
       "\n",
       "                                      input_sequence doc_id_gpt speaker_gpt   \n",
       "0  Sentiment Analysis\\nA sentiment tuple consists...          2           A  \\\n",
       "1  Sentiment Analysis\\nA sentiment tuple consists...          2           B   \n",
       "2  Sentiment Analysis\\nA sentiment tuple consists...          2           C   \n",
       "3  Sentiment Analysis\\nA sentiment tuple consists...          2           D   \n",
       "4  Sentiment Analysis\\nA sentiment tuple consists...         12           A   \n",
       "\n",
       "                                           label_gpt   \n",
       "0  (iPhone,processor,better,pos)\\n(Xiaomi 11,phot...  \\\n",
       "1  (iPhone,processor,excellent,pos)\\n(iPhone,iOS,...   \n",
       "2                          (iPhone,Sales,beat,pos)\\n   \n",
       "3  (Mi 11,photos,blurry,neg)\\n(Mi 11,experience,s...   \n",
       "4                 (10U,telephoto,not outdated,pos)\\n   \n",
       "\n",
       "                                            pred_gpt  \n",
       "0  (iPhone,processor,except for,neg)\\n(Xiaomi,nul...  \n",
       "1  (iPhone,processor,excellent,pos)\\n(iPhone,iOS,...  \n",
       "2  (iPhone,processor,excellent,pos)\\n(iPhone,iOS,...  \n",
       "3  (null,X,n't used,neg)\\n(X,null,good photos,neg...  \n",
       "4                        (null,10U,not outdated,pos)  "
      ]
     },
     "execution_count": 20,
     "metadata": {},
     "output_type": "execute_result"
    }
   ],
   "source": [
    "# turn null into empty string\n",
    "t5_res['pred'] = t5_res['pred'].fillna('')\n",
    "gpt_res['pred'] = gpt_res['pred'].fillna('')\n",
    "gpt_res['label'] = gpt_res['label'].fillna('')\n",
    "t5_res['label'] = t5_res['label'].fillna('')\n",
    "\n",
    "# create doc_id and speaker as 1 col \n",
    "t5_res['doc_id'] = t5_res['doc_id'].astype(str)\n",
    "t5_res['speaker'] = t5_res['speaker'].astype(str)\n",
    "t5_res['doc_id_speaker'] = t5_res['doc_id'] + '_' + t5_res['speaker']\n",
    "\n",
    "gpt_res['doc_id'] = gpt_res['doc_id'].astype(str)\n",
    "gpt_res['speaker'] = gpt_res['speaker'].astype(str)\n",
    "gpt_res['doc_id_speaker'] = gpt_res['doc_id'] + '_' + gpt_res['speaker']\n",
    "\n",
    "# merge by doc_id_speaker\n",
    "merged_res = pd.merge(t5_res, gpt_res, on='doc_id_speaker', how='outer', suffixes=('_t5', '_gpt'))\n",
    "merged_res.head()\n"
   ]
  },
  {
   "cell_type": "code",
   "execution_count": 24,
   "metadata": {},
   "outputs": [],
   "source": [
    "from metrics.utils import str_2_tuples\n",
    "from typing import List, Tuple\n",
    "\n",
    "\n",
    "\n",
    "\n",
    "pair_res = {} \n",
    "for idx, row in merged_res.iterrows():\n",
    "    \n",
    "    t5_res_quads = str_2_tuples(row['pred_t5'])\n",
    "    gpt_res_quads = str_2_tuples(row['pred_gpt'])\n",
    "    label_quads = str_2_tuples(row['label_t5']) # or label_gpt, they contain same quads\n",
    "    id = row['doc_id_speaker']\n",
    "    pair_res[id] = {\n",
    "        't5': t5_res_quads,\n",
    "        'gpt': gpt_res_quads,\n",
    "        'label': label_quads, \n",
    "        'input': row['input_sequence']\n",
    "    }\n",
    "\n",
    "\n",
    "    "
   ]
  },
  {
   "cell_type": "code",
   "execution_count": 26,
   "metadata": {},
   "outputs": [
    {
     "data": {
      "text/plain": [
       "{'t5': [('10U', 'telephoto', 'not outdated', 'pos')],\n",
       " 'gpt': [('null', '10U', 'not outdated', 'pos')],\n",
       " 'label': [('10U', 'telephoto', 'not outdated', 'pos')],\n",
       " 'input': 'Sentiment Analysis\\nA sentiment tuple consists of (target term, aspect term, opinion term, sentiment polarity).\\nGiven a discussion thread associated with a speaker, extract the sentiment tuples that belong to the specified speaker, which means that the \"opinion term\" of the sentiment tuple is spoken by the speaker.\\nThe first 3 elements in the tuple are term-extraction tasks, meaning the extracted string must be the substring of one of the sentences.\\nSentiment polarity shall be selected from [pos, neg, other].\\nThe output of the tuple is wrapped in (), separated by a half-width comma, and the output of the tuple is separated by \\'\\\\n\\'./nInput: \\nThe X from 3 years ago , aftre update to the latest 14.2 , it was smoother than the Mi 10 in my hand . It was no problem for Android to ues 3 years?You need to ensure that the Android system can be updated for 3 years .\\nOutput: \\n(X,null,smoother,pos)\\n(Mi 10,null,smoother,neg)\\n(Android,null,no problem,other)\\n/nInput: \\nThe 10U telephoto is still not outdated now . [ DOGE ] .\\nOutput: \\n'}"
      ]
     },
     "execution_count": 26,
     "metadata": {},
     "output_type": "execute_result"
    }
   ],
   "source": [
    "pair_res['12_A']\n",
    "# The 10U telephoto is still not outdated now . [ DOGE ] ."
   ]
  },
  {
   "cell_type": "code",
   "execution_count": 29,
   "metadata": {},
   "outputs": [
    {
     "name": "stdout",
     "output_type": "stream",
     "text": [
      "Sentiment Analysis\n",
      "A sentiment tuple consists of (target term, aspect term, opinion term, sentiment polarity).\n",
      "Given a discussion thread associated with a speaker, extract the sentiment tuples that belong to the specified speaker, which means that the \"opinion term\" of the sentiment tuple is spoken by the speaker.\n",
      "The first 3 elements in the tuple are term-extraction tasks, meaning the extracted string must be the substring of one of the sentences.\n",
      "Sentiment polarity shall be selected from [pos, neg, other].\n",
      "The output of the tuple is wrapped in (), separated by a half-width comma, and the output of the tuple is separated by '\\n'./nInput: \n",
      "The X from 3 years ago , aftre update to the latest 14.2 , it was smoother than the Mi 10 in my hand . It was no problem for Android to ues 3 years?You need to ensure that the Android system can be updated for 3 years .\n",
      "Output: \n",
      "(X,null,smoother,pos)\n",
      "(Mi 10,null,smoother,neg)\n",
      "(Android,null,no problem,other)\n",
      "/nInput: \n",
      "Sorry , even if the Samsung diamond is 1080P , it is more delicate than your Zhou Dongyu [ Doge ] .\n",
      "Output: \n",
      "\n"
     ]
    },
    {
     "data": {
      "text/plain": [
       "{'t5': [('Samsung diamondniameter', 'morelicate', 'pos', '')],\n",
       " 'gpt': [('Samsung diamond', 'null', 'more delicate', 'pos'),\n",
       "  ('Zhou Dongyu', 'null', 'more delicate', 'neg')],\n",
       " 'label': [('Samsung', 'diamond', 'delicate', 'pos')],\n",
       " 'input': 'Sentiment Analysis\\nA sentiment tuple consists of (target term, aspect term, opinion term, sentiment polarity).\\nGiven a discussion thread associated with a speaker, extract the sentiment tuples that belong to the specified speaker, which means that the \"opinion term\" of the sentiment tuple is spoken by the speaker.\\nThe first 3 elements in the tuple are term-extraction tasks, meaning the extracted string must be the substring of one of the sentences.\\nSentiment polarity shall be selected from [pos, neg, other].\\nThe output of the tuple is wrapped in (), separated by a half-width comma, and the output of the tuple is separated by \\'\\\\n\\'./nInput: \\nThe X from 3 years ago , aftre update to the latest 14.2 , it was smoother than the Mi 10 in my hand . It was no problem for Android to ues 3 years?You need to ensure that the Android system can be updated for 3 years .\\nOutput: \\n(X,null,smoother,pos)\\n(Mi 10,null,smoother,neg)\\n(Android,null,no problem,other)\\n/nInput: \\nSorry , even if the Samsung diamond is 1080P , it is more delicate than your Zhou Dongyu [ Doge ] .\\nOutput: \\n'}"
      ]
     },
     "execution_count": 29,
     "metadata": {},
     "output_type": "execute_result"
    }
   ],
   "source": [
    "id = '22_B'\n",
    "\n",
    "print(pair_res[id]['input'])\n",
    "pair_res[id]"
   ]
  },
  {
   "cell_type": "code",
   "execution_count": 30,
   "metadata": {},
   "outputs": [
    {
     "name": "stdout",
     "output_type": "stream",
     "text": [
      "Sentiment Analysis\n",
      "A sentiment tuple consists of (target term, aspect term, opinion term, sentiment polarity).\n",
      "Given a discussion thread associated with a speaker, extract the sentiment tuples that belong to the specified speaker, which means that the \"opinion term\" of the sentiment tuple is spoken by the speaker.\n",
      "The first 3 elements in the tuple are term-extraction tasks, meaning the extracted string must be the substring of one of the sentences.\n",
      "Sentiment polarity shall be selected from [pos, neg, other].\n",
      "The output of the tuple is wrapped in (), separated by a half-width comma, and the output of the tuple is separated by '\\n'./nInput: \n",
      "The X from 3 years ago , aftre update to the latest 14.2 , it was smoother than the Mi 10 in my hand . It was no problem for Android to ues 3 years?You need to ensure that the Android system can be updated for 3 years .\n",
      "Output: \n",
      "(X,null,smoother,pos)\n",
      "(Mi 10,null,smoother,neg)\n",
      "(Android,null,no problem,other)\n",
      "/nInput: \n",
      "If you want to change Android this year , the screen + processor + system , no one can use [ face ] .\n",
      "Even the image has shrunk but want to fight with iOS on the system . Is this confident or suicide ?\n",
      "Fast charging is good , but Apple 's battery life this year is the best in the world , and it use nother way to make up for shortcomings . It will not affect the experience if it can be used at night without losing electricity . On the Android side , The battery life is worse than the last , and now Apple really has the feeling of a big brother , but the delivery boy disappeared .\n",
      "Output: \n",
      "\n"
     ]
    },
    {
     "data": {
      "text/plain": [
       "{'t5': [('Approid', 'F', 'shrunk', 'neg'),\n",
       "  ('Apple', 's', 'battery life', 'best'),\n",
       "  ('Android', 'b', 'worse', ' the last'),\n",
       "  ('Andle', 'bull', 'has brother', 'pos')],\n",
       " 'gpt': [('Android', 'screen', 'shrunk', 'neg'),\n",
       "  ('Android', 'processor', 'shrunk', 'neg'),\n",
       "  ('Android', 'system', 'shrunk', 'neg'),\n",
       "  ('iOS', 'system', 'best', 'pos'),\n",
       "  ('Apple', 'battery life', 'best', 'pos'),\n",
       "  ('Android', 'battery life', 'worse', 'neg'),\n",
       "  ('Apple', 'null', 'no affect', 'other'),\n",
       "  ('Android', 'null', 'no affect', 'other'),\n",
       "  ('Apple', 'null', 'big brother', 'pos'),\n",
       "  ('Android', 'null', 'delivery boy disappeared', 'neg')],\n",
       " 'label': [('Android', 'image', 'shrunk', 'neg'),\n",
       "  (\"Apple's\", 'battery life', 'best in the world', 'pos'),\n",
       "  ('Android', 'life', 'worse than the last', 'neg'),\n",
       "  ('Apple', 'null', 'big brother', 'pos')],\n",
       " 'input': 'Sentiment Analysis\\nA sentiment tuple consists of (target term, aspect term, opinion term, sentiment polarity).\\nGiven a discussion thread associated with a speaker, extract the sentiment tuples that belong to the specified speaker, which means that the \"opinion term\" of the sentiment tuple is spoken by the speaker.\\nThe first 3 elements in the tuple are term-extraction tasks, meaning the extracted string must be the substring of one of the sentences.\\nSentiment polarity shall be selected from [pos, neg, other].\\nThe output of the tuple is wrapped in (), separated by a half-width comma, and the output of the tuple is separated by \\'\\\\n\\'./nInput: \\nThe X from 3 years ago , aftre update to the latest 14.2 , it was smoother than the Mi 10 in my hand . It was no problem for Android to ues 3 years?You need to ensure that the Android system can be updated for 3 years .\\nOutput: \\n(X,null,smoother,pos)\\n(Mi 10,null,smoother,neg)\\n(Android,null,no problem,other)\\n/nInput: \\nIf you want to change Android this year , the screen + processor + system , no one can use [ face ] .\\nEven the image has shrunk but want to fight with iOS on the system . Is this confident or suicide ?\\nFast charging is good , but Apple \\'s battery life this year is the best in the world , and it use nother way to make up for shortcomings . It will not affect the experience if it can be used at night without losing electricity . On the Android side , The battery life is worse than the last , and now Apple really has the feeling of a big brother , but the delivery boy disappeared .\\nOutput: \\n'}"
      ]
     },
     "execution_count": 30,
     "metadata": {},
     "output_type": "execute_result"
    }
   ],
   "source": [
    "id = '22_D'\n",
    "\n",
    "print(pair_res[id]['input'])\n",
    "pair_res[id]\n",
    "# t5:  ('Andle', 'bull', 'has brother', 'pos')], Andle 是啥看不懂 = = \n",
    "# bull 是 null 寫錯\n",
    "# -> t5 嚴謹地 extraction 能力很差"
   ]
  },
  {
   "cell_type": "code",
   "execution_count": 31,
   "metadata": {},
   "outputs": [
    {
     "name": "stdout",
     "output_type": "stream",
     "text": [
      "Sentiment Analysis\n",
      "A sentiment tuple consists of (target term, aspect term, opinion term, sentiment polarity).\n",
      "Given a discussion thread associated with a speaker, extract the sentiment tuples that belong to the specified speaker, which means that the \"opinion term\" of the sentiment tuple is spoken by the speaker.\n",
      "The first 3 elements in the tuple are term-extraction tasks, meaning the extracted string must be the substring of one of the sentences.\n",
      "Sentiment polarity shall be selected from [pos, neg, other].\n",
      "The output of the tuple is wrapped in (), separated by a half-width comma, and the output of the tuple is separated by '\\n'./nInput: \n",
      "The X from 3 years ago , aftre update to the latest 14.2 , it was smoother than the Mi 10 in my hand . It was no problem for Android to ues 3 years?You need to ensure that the Android system can be updated for 3 years .\n",
      "Output: \n",
      "(X,null,smoother,pos)\n",
      "(Mi 10,null,smoother,neg)\n",
      "(Android,null,no problem,other)\n",
      "/nInput: \n",
      "\n",
      "Output: \n",
      "\n"
     ]
    },
    {
     "data": {
      "text/plain": [
       "{'t5': [],\n",
       " 'gpt': [],\n",
       " 'label': [],\n",
       " 'input': 'Sentiment Analysis\\nA sentiment tuple consists of (target term, aspect term, opinion term, sentiment polarity).\\nGiven a discussion thread associated with a speaker, extract the sentiment tuples that belong to the specified speaker, which means that the \"opinion term\" of the sentiment tuple is spoken by the speaker.\\nThe first 3 elements in the tuple are term-extraction tasks, meaning the extracted string must be the substring of one of the sentences.\\nSentiment polarity shall be selected from [pos, neg, other].\\nThe output of the tuple is wrapped in (), separated by a half-width comma, and the output of the tuple is separated by \\'\\\\n\\'./nInput: \\nThe X from 3 years ago , aftre update to the latest 14.2 , it was smoother than the Mi 10 in my hand . It was no problem for Android to ues 3 years?You need to ensure that the Android system can be updated for 3 years .\\nOutput: \\n(X,null,smoother,pos)\\n(Mi 10,null,smoother,neg)\\n(Android,null,no problem,other)\\n/nInput: \\n\\nOutput: \\n'}"
      ]
     },
     "execution_count": 31,
     "metadata": {},
     "output_type": "execute_result"
    }
   ],
   "source": [
    "id = '42_A'\n",
    "\n",
    "print(pair_res[id]['input'])\n",
    "pair_res[id]\n",
    "# t5, gpt 都知道 no input no output "
   ]
  },
  {
   "cell_type": "code",
   "execution_count": 32,
   "metadata": {},
   "outputs": [
    {
     "name": "stdout",
     "output_type": "stream",
     "text": [
      "Sentiment Analysis\n",
      "A sentiment tuple consists of (target term, aspect term, opinion term, sentiment polarity).\n",
      "Given a discussion thread associated with a speaker, extract the sentiment tuples that belong to the specified speaker, which means that the \"opinion term\" of the sentiment tuple is spoken by the speaker.\n",
      "The first 3 elements in the tuple are term-extraction tasks, meaning the extracted string must be the substring of one of the sentences.\n",
      "Sentiment polarity shall be selected from [pos, neg, other].\n",
      "The output of the tuple is wrapped in (), separated by a half-width comma, and the output of the tuple is separated by '\\n'./nInput: \n",
      "The X from 3 years ago , aftre update to the latest 14.2 , it was smoother than the Mi 10 in my hand . It was no problem for Android to ues 3 years?You need to ensure that the Android system can be updated for 3 years .\n",
      "Output: \n",
      "(X,null,smoother,pos)\n",
      "(Mi 10,null,smoother,neg)\n",
      "(Android,null,no problem,other)\n",
      "/nInput: \n",
      "Is the big camera of Xiaomi 11u good - looking ? [ Yunbei ]\n",
      "I feel too big , not as good - looking as 11 [ Yunbei ] I also like white ceramics\n",
      "Output: \n",
      "\n"
     ]
    },
    {
     "data": {
      "text/plain": [
       "{'t5': [('Xiaomi 11u', 'camera', 'good-looking', 'other'),\n",
       "  ('11iaomi 11u', 'camera', 'noto big', 'neg'),\n",
       "  ('11iaomi 11u', 'whiteera', 'not as good-looking asneg', ''),\n",
       "  ('11', 'nera', 'not as good-looking', 'pos')],\n",
       " 'gpt': [('X', 'camera', 'good-looking', 'neg'),\n",
       "  ('11u', 'camera', 'big', 'neg'),\n",
       "  ('11', 'null', 'good-looking', 'pos'),\n",
       "  ('null', 'white ceramics', 'like', 'pos')],\n",
       " 'label': [('Xiaomi 11u', 'camera', 'good-looking', 'other'),\n",
       "  ('Xiaomi 11u', 'camera', 'too big', 'neg'),\n",
       "  ('Xiaomi 11u', 'camera', 'not as good-looking', 'neg'),\n",
       "  ('11', 'camera', 'not as good-looking', 'pos')],\n",
       " 'input': 'Sentiment Analysis\\nA sentiment tuple consists of (target term, aspect term, opinion term, sentiment polarity).\\nGiven a discussion thread associated with a speaker, extract the sentiment tuples that belong to the specified speaker, which means that the \"opinion term\" of the sentiment tuple is spoken by the speaker.\\nThe first 3 elements in the tuple are term-extraction tasks, meaning the extracted string must be the substring of one of the sentences.\\nSentiment polarity shall be selected from [pos, neg, other].\\nThe output of the tuple is wrapped in (), separated by a half-width comma, and the output of the tuple is separated by \\'\\\\n\\'./nInput: \\nThe X from 3 years ago , aftre update to the latest 14.2 , it was smoother than the Mi 10 in my hand . It was no problem for Android to ues 3 years?You need to ensure that the Android system can be updated for 3 years .\\nOutput: \\n(X,null,smoother,pos)\\n(Mi 10,null,smoother,neg)\\n(Android,null,no problem,other)\\n/nInput: \\nIs the big camera of Xiaomi 11u good - looking ? [ Yunbei ]\\nI feel too big , not as good - looking as 11 [ Yunbei ] I also like white ceramics\\nOutput: \\n'}"
      ]
     },
     "execution_count": 32,
     "metadata": {},
     "output_type": "execute_result"
    }
   ],
   "source": [
    "id = '62_B'\n",
    "\n",
    "print(pair_res[id]['input'])\n",
    "pair_res[id]\n",
    "# gold: ('Xiaomi 11u', 'camera', 'not as good-looking', 'neg'),\n",
    "# gpt: ('11', 'null', 'good-looking', 'pos'), completely reverse the polarity since it ignores not as negation\n",
    "# t5: ('11', 'nera', 'not as good-looking', 'pos'), opn term is correct but polarity is wrong, why... "
   ]
  }
 ],
 "metadata": {
  "kernelspec": {
   "display_name": "Python 3",
   "language": "python",
   "name": "python3"
  },
  "language_info": {
   "codemirror_mode": {
    "name": "ipython",
    "version": 3
   },
   "file_extension": ".py",
   "mimetype": "text/x-python",
   "name": "python",
   "nbconvert_exporter": "python",
   "pygments_lexer": "ipython3",
   "version": "3.9.16"
  },
  "orig_nbformat": 4
 },
 "nbformat": 4,
 "nbformat_minor": 2
}
